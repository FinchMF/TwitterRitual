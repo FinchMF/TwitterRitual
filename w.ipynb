{
 "cells": [
  {
   "cell_type": "markdown",
   "source": [
    "## Bot Connections"
   ],
   "metadata": {}
  },
  {
   "cell_type": "code",
   "execution_count": 1,
   "source": [
    "from core import TwitterBot"
   ],
   "outputs": [],
   "metadata": {}
  },
  {
   "cell_type": "code",
   "execution_count": 2,
   "source": [
    "INTERPRETER = TwitterBot(bot='INTERPRETER')"
   ],
   "outputs": [],
   "metadata": {}
  },
  {
   "cell_type": "code",
   "execution_count": 3,
   "source": [
    "INTERPRETER.getAvailableTrendLocations()"
   ],
   "outputs": [],
   "metadata": {}
  },
  {
   "cell_type": "code",
   "execution_count": 21,
   "source": [
    "INTERPRETER.trendLocations[2]"
   ],
   "outputs": [
    {
     "output_type": "execute_result",
     "data": {
      "text/plain": [
       "{'name': 'Ottawa',\n",
       " 'placeType': {'code': 7, 'name': 'Town'},\n",
       " 'url': 'http://where.yahooapis.com/v1/place/3369',\n",
       " 'parentid': 23424775,\n",
       " 'country': 'Canada',\n",
       " 'woeid': 3369,\n",
       " 'countryCode': 'CA'}"
      ]
     },
     "metadata": {},
     "execution_count": 21
    }
   ],
   "metadata": {}
  },
  {
   "cell_type": "code",
   "execution_count": 5,
   "source": [
    "INTERPRETER.getLocationTrends(woeid=3369, name='Ottawa')"
   ],
   "outputs": [],
   "metadata": {}
  },
  {
   "cell_type": "code",
   "execution_count": 15,
   "source": [
    "\n",
    "INTERPRETER.trends['Ottawa'][0]['trends'][34]"
   ],
   "outputs": [
    {
     "output_type": "execute_result",
     "data": {
      "text/plain": [
       "{'name': '#Kamloops',\n",
       " 'url': 'http://twitter.com/search?q=%23Kamloops',\n",
       " 'promoted_content': None,\n",
       " 'query': '%23Kamloops',\n",
       " 'tweet_volume': None}"
      ]
     },
     "metadata": {},
     "execution_count": 15
    }
   ],
   "metadata": {}
  },
  {
   "cell_type": "markdown",
   "source": [
    "## Behaviors"
   ],
   "metadata": {}
  },
  {
   "cell_type": "code",
   "execution_count": 6,
   "source": [
    "imgIn = 'cat_2.jpg'\n",
    "n_iter = 90\n",
    "amount = 0.09\n",
    "max_width=1900"
   ],
   "outputs": [],
   "metadata": {}
  },
  {
   "cell_type": "code",
   "execution_count": 1,
   "source": [
    "from core import Glitch"
   ],
   "outputs": [],
   "metadata": {}
  },
  {
   "cell_type": "code",
   "execution_count": 7,
   "source": [
    "G = Glitch(pathIn=imgIn, n_iter=n_iter, amnt=amount, max_width=max_width, pathOut='example.jpg', verbose=True)"
   ],
   "outputs": [],
   "metadata": {}
  },
  {
   "cell_type": "code",
   "execution_count": 8,
   "source": [
    "G.processGlitch()"
   ],
   "outputs": [
    {
     "output_type": "stream",
     "name": "stdout",
     "text": [
      "2021-08-15 23:29:29 [INFO] Twitter-Ritual - [ glitch.py: 147 @ glitch ] - Data length: 1349160\n",
      "2021-08-15 23:29:29 [INFO] Twitter-Ritual - [ glitch.py: 148 @ glitch ] - Amount: 0.09 | Seed: 0.47334850535418427 | n_iter: 90\n",
      "2021-08-15 23:29:29 [INFO] Twitter-Ritual - [ glitch.py: 171 @ processGlitch ] - glitched image saved to example.jpg\n"
     ]
    }
   ],
   "metadata": {}
  },
  {
   "cell_type": "code",
   "execution_count": 1,
   "source": [
    "from core import Crawler"
   ],
   "outputs": [],
   "metadata": {}
  },
  {
   "cell_type": "code",
   "execution_count": 5,
   "source": [
    "C = Crawler()\n",
    "C.chooseText(title='simulations')\n",
    "C.scrapeText()\n",
    "C.saveText()\n",
    "C.chooseText(title='simulacra-and-simulation')\n",
    "C.scrapeText()\n",
    "C.saveText()"
   ],
   "outputs": [],
   "metadata": {}
  }
 ],
 "metadata": {
  "orig_nbformat": 4,
  "language_info": {
   "name": "python",
   "version": "3.7.6",
   "mimetype": "text/x-python",
   "codemirror_mode": {
    "name": "ipython",
    "version": 3
   },
   "pygments_lexer": "ipython3",
   "nbconvert_exporter": "python",
   "file_extension": ".py"
  },
  "kernelspec": {
   "name": "python3",
   "display_name": "Python 3.7.6 64-bit ('base': conda)"
  },
  "interpreter": {
   "hash": "6ac79b1fdcb490579d7682732754f5f6cab407ac9f00894a844997adac3ef759"
  }
 },
 "nbformat": 4,
 "nbformat_minor": 2
}