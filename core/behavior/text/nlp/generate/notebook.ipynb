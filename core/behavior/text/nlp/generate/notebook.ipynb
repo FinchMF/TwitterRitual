{
 "cells": [
  {
   "cell_type": "code",
   "execution_count": 1,
   "metadata": {},
   "outputs": [],
   "source": [
    "import os"
   ]
  },
  {
   "cell_type": "code",
   "execution_count": 9,
   "metadata": {},
   "outputs": [],
   "source": [
    "baudrillard = '/Users/finchmf/coding/TwitterRitual/core/behavior/text/webscraper/baudrillard/textData/simulacra-and-simulation.txt'\n",
    "baudrillard_2 = '/Users/finchmf/coding/TwitterRitual/core/behavior/text/webscraper/baudrillard/textData/simulations.txt'\n",
    "def load_data(path: str) -> str:\n",
    "\n",
    "    text_file = os.path.join(path)\n",
    "    with open(text_file, \"r\") as f:\n",
    "        data = f.read()\n",
    "\n",
    "    return data"
   ]
  },
  {
   "cell_type": "code",
   "execution_count": 10,
   "metadata": {},
   "outputs": [],
   "source": [
    "data = load_data(baudrillard)\n",
    "data_2 = load_data(baudrillard_2)"
   ]
  },
  {
   "cell_type": "code",
   "execution_count": 13,
   "metadata": {},
   "outputs": [],
   "source": [
    "main_data = data + data_2"
   ]
  },
  {
   "cell_type": "code",
   "execution_count": 17,
   "metadata": {},
   "outputs": [
    {
     "name": "stdout",
     "output_type": "stream",
     "text": [
      "Dataset Stats\n",
      "Roughly the number of unique words: 14440\n",
      "Number of lines: 11204\n",
      "Average number of words in each line: 7.909139593002499\n",
      "\n",
      "The lines 100 to 150:\n",
      "whose operation is nuclear and genetic, no longer at all specular or discursive. It is all of \n",
      "metaphysics that is lost. No more mirror of being and appearances, of the real and its \n",
      "concept. No more imaginary coextensivity: it is genetic miniaturization that is the \n",
      "dimension of simulation. The real is produced from miniaturized cells, matrices, and \n",
      "memory banks, models of control - and it can be reproduced an indefinite number of \n",
      "times from these. It no longer needs to be rational, because it no longer measures itself \n",
      "against either an ideal or negative instance. It is no longer anything but operational. In \n",
      "fact, it is no longer really the real, because no imaginary envelops it anymore. It is a \n",
      "hyperreal, produced from a radiating synthesis of combinatory models in a hyperspace \n",
      "without atmosphere. \n",
      "\n",
      "By crossing into a space whose curvature is no longer that of the real, nor that of truth, \n",
      "the era of simulation is inaugurated by a liquidation of all referentials - worse: with their \n",
      "\n",
      "\n",
      "artificial resurrection in the systems of signs, a material more malleable than meaning, in \n",
      "that it lends itself to all systems of equivalences, to all binary oppositions, to all \n",
      "combinatory algebra. It is no longer a question of imitation, nor duplication, nor even \n",
      "parody. It is a question of substituting the signs of the real for the real, that is to say of an \n",
      "operation of deterring every real process via its operational double, a programmatic, \n",
      "metastable, perfectly descriptive machine that offers all the signs of the real and short- \n",
      "circuits all its vicissitudes. Never again will the real have the chance to produce itself - \n",
      "such is the vital function of the model in a system of death, or rather of anticipated \n",
      "resurrection, that no longer even gives the event of death a chance. A hyperreal \n",
      "henceforth sheltered from the imaginary, and from any distinction between the real and \n",
      "the imaginary, leaving room only for the orbital recurrence of models and for the \n",
      "simulated generation of differences. \n",
      "\n",
      "THE DIVINE IRREFERENCE OF IMAGES \n",
      "\n",
      "To dissimulate is to pretend not to have what one has. To simulate is to feign to have \n",
      "what one doesn't have. One implies a presence, the other an absence. But it is more \n",
      "complicated than that because simulating is not pretending: \"Whoever fakes an illness \n",
      "can simply stay in bed and make everyone believe he is ill. Whoever simulates an illness \n",
      "produces in himself some of the symptoms\" (Littre). Therefore, pretending, or \n",
      "dissimulating, leaves the principle of reality intact: the difference is always clear, it is \n",
      "simply masked, whereas simulation threatens the difference between the \"true\" and the \n",
      "\"false,\" the \"real\" and the \"imaginary.\" Is the simulator sick or not, given that he \n",
      "produces \"true\" symptoms? Objectively one cannot treat him as being either ill or not ill. \n",
      "Psychology and medicine stop at this point, forestalled by the illness's henceforth \n",
      "undiscoverable truth. For if any symptom can be \"produced,\" and can no longer be taken \n",
      "as a fact of nature, then every illness can be considered as simulatable and simulated, and \n",
      "medicine loses its meaning since it only knows how to treat \"real\" illnesses according to \n",
      "their objective causes. Psychosomatics evolves in a dubious manner at the borders of the \n",
      "principle of illness. As to psychoanalysis, it transfers the symptom of the organic order to \n",
      "the unconscious order: the latter is new and taken for \"real\" more real than the other - but \n",
      "why would simulation be at the gates of the unconscious? Why couldn't the \"work\" of the \n",
      "unconscious be \"produced\" in the same way as any old symptom of classical medicine? \n",
      "Dreams already are. \n",
      "\n"
     ]
    }
   ],
   "source": [
    "import numpy as np\n",
    "\n",
    "view_line_range = (100, 150)\n",
    "\n",
    "print('Dataset Stats')\n",
    "print('Roughly the number of unique words: {}'.format(len({word: None for word in main_data.split()})))\n",
    "\n",
    "lines = main_data.split('\\n')\n",
    "print('Number of lines: {}'.format(len(lines)))\n",
    "word_count_line = [len(line.split()) for line in lines]\n",
    "print('Average number of words in each line: {}'.format(np.average(word_count_line)))\n",
    "\n",
    "print()\n",
    "print('The lines {} to {}:'.format(*view_line_range))\n",
    "print('\\n'.join(main_data.split('\\n')[view_line_range[0]:view_line_range[1]]))"
   ]
  },
  {
   "cell_type": "code",
   "execution_count": null,
   "metadata": {},
   "outputs": [],
   "source": [
    "from collections import Counter\n",
    "\n",
    "def create_lookup_tables(text: str) -> tuple:\n",
    "\n",
    "    word_counts = Counter(text)\n",
    "    sorted_vocab = sorted(word_counts, key=word_counts.get, reverse=True)\n",
    "    i2w = {idx: word for idx, word, in enumerate(sorted_vocab)}\n",
    "    w2i = {word: idx for idx, word in i2w.items()}\n",
    "\n",
    "    return (w2i, i2w)\n",
    "\n",
    "def token_lookup():\n",
    "    return {\n",
    "        '.': '||period||',\n",
    "        ',': '||comma||',\n",
    "        '\"': '||quotation_mark||',\n",
    "        ';': '||semicolon||',\n",
    "        '!': '||exclamation_mark||',\n",
    "        '?': '||question_mark||',\n",
    "        '(': '||left_parentheses||',\n",
    "        ')': '||right_Parentheses||',\n",
    "        '-': '||dash||',\n",
    "        '\\n': '||return||'\n",
    "    }\n",
    "\n"
   ]
  },
  {
   "cell_type": "code",
   "execution_count": null,
   "metadata": {},
   "outputs": [],
   "source": []
  }
 ],
 "metadata": {
  "interpreter": {
   "hash": "f2821f07e8631336d86e8598c0ef80e1a73ee1b0e02af0ddc389e7a58f7ae87f"
  },
  "kernelspec": {
   "display_name": "Python 3.9.7 64-bit ('env': venv)",
   "language": "python",
   "name": "python3"
  },
  "language_info": {
   "codemirror_mode": {
    "name": "ipython",
    "version": 3
   },
   "file_extension": ".py",
   "mimetype": "text/x-python",
   "name": "python",
   "nbconvert_exporter": "python",
   "pygments_lexer": "ipython3",
   "version": "3.9.7"
  },
  "orig_nbformat": 4
 },
 "nbformat": 4,
 "nbformat_minor": 2
}
