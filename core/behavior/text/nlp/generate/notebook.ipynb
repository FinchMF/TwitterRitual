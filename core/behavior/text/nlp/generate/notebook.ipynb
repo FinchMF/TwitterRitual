{
 "cells": [
  {
   "cell_type": "markdown",
   "metadata": {},
   "source": [
    "### Quick Look"
   ]
  },
  {
   "cell_type": "code",
   "execution_count": 1,
   "metadata": {},
   "outputs": [],
   "source": [
    "import os\n",
    "baudrillard = '/Users/finchmf/coding/TwitterRitual/core/behavior/text/webscraper/baudrillard/textData/simulacra-and-simulation.txt'\n",
    "baudrillard_2 = '/Users/finchmf/coding/TwitterRitual/core/behavior/text/webscraper/baudrillard/textData/simulations.txt'\n",
    "def load_data(path: str) -> str:\n",
    "\n",
    "    text_file = os.path.join(path)\n",
    "    with open(text_file, \"r\") as f:\n",
    "        data = f.read()\n",
    "\n",
    "    return data\n",
    "\n",
    "_data = load_data(baudrillard)\n",
    "_data_2 = load_data(baudrillard_2)\n",
    "main_data = _data + _data_2"
   ]
  },
  {
   "cell_type": "code",
   "execution_count": 2,
   "metadata": {},
   "outputs": [
    {
     "name": "stdout",
     "output_type": "stream",
     "text": [
      "Dataset Stats\n",
      "Roughly the number of unique words: 14440\n",
      "Number of lines: 11204\n",
      "Average number of words in each line: 7.909139593002499\n",
      "\n",
      "The lines 100 to 150:\n",
      "whose operation is nuclear and genetic, no longer at all specular or discursive. It is all of \n",
      "metaphysics that is lost. No more mirror of being and appearances, of the real and its \n",
      "concept. No more imaginary coextensivity: it is genetic miniaturization that is the \n",
      "dimension of simulation. The real is produced from miniaturized cells, matrices, and \n",
      "memory banks, models of control - and it can be reproduced an indefinite number of \n",
      "times from these. It no longer needs to be rational, because it no longer measures itself \n",
      "against either an ideal or negative instance. It is no longer anything but operational. In \n",
      "fact, it is no longer really the real, because no imaginary envelops it anymore. It is a \n",
      "hyperreal, produced from a radiating synthesis of combinatory models in a hyperspace \n",
      "without atmosphere. \n",
      "\n",
      "By crossing into a space whose curvature is no longer that of the real, nor that of truth, \n",
      "the era of simulation is inaugurated by a liquidation of all referentials - worse: with their \n",
      "\n",
      "\n",
      "artificial resurrection in the systems of signs, a material more malleable than meaning, in \n",
      "that it lends itself to all systems of equivalences, to all binary oppositions, to all \n",
      "combinatory algebra. It is no longer a question of imitation, nor duplication, nor even \n",
      "parody. It is a question of substituting the signs of the real for the real, that is to say of an \n",
      "operation of deterring every real process via its operational double, a programmatic, \n",
      "metastable, perfectly descriptive machine that offers all the signs of the real and short- \n",
      "circuits all its vicissitudes. Never again will the real have the chance to produce itself - \n",
      "such is the vital function of the model in a system of death, or rather of anticipated \n",
      "resurrection, that no longer even gives the event of death a chance. A hyperreal \n",
      "henceforth sheltered from the imaginary, and from any distinction between the real and \n",
      "the imaginary, leaving room only for the orbital recurrence of models and for the \n",
      "simulated generation of differences. \n",
      "\n",
      "THE DIVINE IRREFERENCE OF IMAGES \n",
      "\n",
      "To dissimulate is to pretend not to have what one has. To simulate is to feign to have \n",
      "what one doesn't have. One implies a presence, the other an absence. But it is more \n",
      "complicated than that because simulating is not pretending: \"Whoever fakes an illness \n",
      "can simply stay in bed and make everyone believe he is ill. Whoever simulates an illness \n",
      "produces in himself some of the symptoms\" (Littre). Therefore, pretending, or \n",
      "dissimulating, leaves the principle of reality intact: the difference is always clear, it is \n",
      "simply masked, whereas simulation threatens the difference between the \"true\" and the \n",
      "\"false,\" the \"real\" and the \"imaginary.\" Is the simulator sick or not, given that he \n",
      "produces \"true\" symptoms? Objectively one cannot treat him as being either ill or not ill. \n",
      "Psychology and medicine stop at this point, forestalled by the illness's henceforth \n",
      "undiscoverable truth. For if any symptom can be \"produced,\" and can no longer be taken \n",
      "as a fact of nature, then every illness can be considered as simulatable and simulated, and \n",
      "medicine loses its meaning since it only knows how to treat \"real\" illnesses according to \n",
      "their objective causes. Psychosomatics evolves in a dubious manner at the borders of the \n",
      "principle of illness. As to psychoanalysis, it transfers the symptom of the organic order to \n",
      "the unconscious order: the latter is new and taken for \"real\" more real than the other - but \n",
      "why would simulation be at the gates of the unconscious? Why couldn't the \"work\" of the \n",
      "unconscious be \"produced\" in the same way as any old symptom of classical medicine? \n",
      "Dreams already are. \n",
      "\n"
     ]
    }
   ],
   "source": [
    "import numpy as np\n",
    "\n",
    "view_line_range = (100, 150)\n",
    "\n",
    "print('Dataset Stats')\n",
    "print('Roughly the number of unique words: {}'.format(len({word: None for word in main_data.split()})))\n",
    "\n",
    "lines = main_data.split('\\n')\n",
    "print('Number of lines: {}'.format(len(lines)))\n",
    "word_count_line = [len(line.split()) for line in lines]\n",
    "print('Average number of words in each line: {}'.format(np.average(word_count_line)))\n",
    "\n",
    "print()\n",
    "print('The lines {} to {}:'.format(*view_line_range))\n",
    "print('\\n'.join(main_data.split('\\n')[view_line_range[0]:view_line_range[1]]))"
   ]
  },
  {
   "cell_type": "markdown",
   "metadata": {},
   "source": [
    "### More Developed Dive"
   ]
  },
  {
   "cell_type": "code",
   "execution_count": 3,
   "metadata": {},
   "outputs": [],
   "source": [
    "from utils import data\n",
    "\n",
    "baudrillard = '/Users/finchmf/coding/TwitterRitual/core/behavior/text/webscraper/baudrillard/textData/simulacra-and-simulation.txt'\n",
    "baudrillard_2 = '/Users/finchmf/coding/TwitterRitual/core/behavior/text/webscraper/baudrillard/textData/simulations.txt'\n",
    "\n",
    "text = data.convertManyToOne([baudrillard, baudrillard_2])\n",
    "\n",
    "tmp_path = '/Users/finchmf/coding/TwitterRitual/core/behavior/text/webscraper/baudrillard/textData/tmp'\n",
    "tmp_file = 'tmp_combined.txt'\n",
    "\n",
    "if not os.path.exists(tmp_path):\n",
    "    os.mkdir(tmp_path)\n",
    "\n",
    "with open(f'{tmp_path}/{tmp_file}', 'w') as f:\n",
    "\n",
    "    f.write(text)\n",
    "    f.close()\n",
    "\n",
    "data.preprocess_and_save(\n",
    "    text_path=f'{tmp_path}/{tmp_file}',\n",
    "    text_title='baudrillard_combined'\n",
    ")\n",
    "int_text, w2i, i2w, token_dict = data.load_preprocess('baudrillard_combined')"
   ]
  },
  {
   "cell_type": "code",
   "execution_count": 4,
   "metadata": {},
   "outputs": [
    {
     "name": "stdout",
     "output_type": "stream",
     "text": [
      "CPU\n"
     ]
    }
   ],
   "source": [
    "import torch\n",
    "\n",
    "train_on_gpu = torch.cuda.is_available()\n",
    "if not train_on_gpu:\n",
    "    print('CPU')"
   ]
  },
  {
   "cell_type": "code",
   "execution_count": 5,
   "metadata": {},
   "outputs": [],
   "source": [
    "import numpy as np\n",
    "from torch.utils.data import TensorDataset, DataLoader\n",
    "\n",
    "def batch_data(\n",
    "    words: list, \n",
    "    sequence_length: int, \n",
    "    batch_size: int) -> DataLoader:\n",
    "\n",
    "    words = np.array(words)\n",
    "    total_batch_size = batch_size * sequence_length\n",
    "    n_batches = len(words) // batch_size\n",
    "\n",
    "    words = words[:n_batches * total_batch_size]\n",
    "    feature, target = [], []\n",
    "\n",
    "    target_words_length = words[:-sequence_length]\n",
    "    for idx in range(0, len(target_words_length)):\n",
    "\n",
    "        feature.append(words[idx: idx + sequence_length])\n",
    "        target.append(words[idx + sequence_length])\n",
    "\n",
    "    batch_nums = len(words) // batch_size\n",
    "    feature = feature[:batch_nums * batch_size]\n",
    "    target = target[:batch_nums * batch_size]\n",
    "\n",
    "    feature_tensors = torch.from_numpy(np.asarray(feature))\n",
    "    target_tensors = torch.from_numpy(np.asarray(target))\n",
    "\n",
    "    data_set = TensorDataset(feature_tensors, target_tensors)\n",
    "    data_loader = DataLoader(data_set, batch_size=batch_size, shuffle=True)\n",
    "\n",
    "    return data_loader"
   ]
  },
  {
   "cell_type": "code",
   "execution_count": 6,
   "metadata": {},
   "outputs": [
    {
     "name": "stdout",
     "output_type": "stream",
     "text": [
      "torch.Size([10, 5])\n",
      "tensor([[22, 23, 24, 25, 26],\n",
      "        [42, 43, 44, 45, 46],\n",
      "        [32, 33, 34, 35, 36],\n",
      "        [44, 45, 46, 47, 48],\n",
      "        [20, 21, 22, 23, 24],\n",
      "        [39, 40, 41, 42, 43],\n",
      "        [10, 11, 12, 13, 14],\n",
      "        [41, 42, 43, 44, 45],\n",
      "        [33, 34, 35, 36, 37],\n",
      "        [31, 32, 33, 34, 35]])\n",
      "\n",
      "torch.Size([10])\n",
      "tensor([27, 47, 37, 49, 25, 44, 15, 46, 38, 36])\n"
     ]
    }
   ],
   "source": [
    "# test dataloader\n",
    "\n",
    "test_text = range(50)\n",
    "t_loader = batch_data(test_text, sequence_length=5, batch_size=10)\n",
    "\n",
    "data_iter = iter(t_loader)\n",
    "sample_x, sample_y = data_iter.next()\n",
    "\n",
    "print(sample_x.shape) # batch_size x sequence_length\n",
    "print(sample_x) # batch\n",
    "print()\n",
    "print(sample_y.shape) # text | len(words)\n",
    "print(sample_y) # text | list(int)"
   ]
  },
  {
   "cell_type": "code",
   "execution_count": 7,
   "metadata": {},
   "outputs": [
    {
     "name": "stdout",
     "output_type": "stream",
     "text": [
      "tensor([[ 3220,     9,  9090,  1349,   610,    58,     3],\n",
      "        [    7,    32,    21,  2963,    33,  2964,  1392],\n",
      "        [  118,     6,     0,   134,     1,     3,  1693],\n",
      "        [    0,   293,   380,     8,  2100,    14,    20],\n",
      "        [   19, 11258,     3,   226,     1,  5594,     1],\n",
      "        [ 5346,     0,  1738,     1,     0,  2281,  1456],\n",
      "        [    4,    49,     0,  5584, 11218,    16,  2061],\n",
      "        [  249,   252,    40,    91,   252, 16166,    22],\n",
      "        [10739,   115,    46,    41,    93,   119,     3],\n",
      "        [    2,   306,    29,   147,     5, 10760,     0],\n",
      "        [14500,    74,     7, 14501,  1637, 14502,   540],\n",
      "        [    1,  5880,    79, 13638,  4487,    37,    49],\n",
      "        [  894,    30,    17,     0,   685,     1, 12011],\n",
      "        [ 1320,     4,   639,  3317,    22,     0,   329],\n",
      "        [  389,     0,  3306, 11114,     0, 11115,   283],\n",
      "        [    5,     0,  5932, 13843,     1,   671,     6],\n",
      "        [    0, 11535,  5637,     0, 11536, 11537,  2131],\n",
      "        [    5,  2703,     0,   150,    38,   898,  3921],\n",
      "        [    4,   336,     8,     2,     0,    81, 15874],\n",
      "        [ 7804,   136,     2,     0,  4766,     1,     0],\n",
      "        [13470,    10,     0,   105,  5903,     9,     2],\n",
      "        [ 2767,  4120,  4121,  1030,     4,    50,     8],\n",
      "        [    1,  1480,    88,    59,   290,     5,  3179],\n",
      "        [ 1808,    48,   490,     1,   642,  8879,     1],\n",
      "        [    3, 15029,    22,     0,   476,    38,     0],\n",
      "        [  285,    76,   170,     2, 12099,    32,    21],\n",
      "        [    6,  2854,     6,  7534,    28,     6,  7535],\n",
      "        [10839,    17,     0,    35,  2679,     6,  1860],\n",
      "        [    2,    59, 15682,    25,     0,  6101,     8],\n",
      "        [  175,     1,     9,   904,  6533,   557,     0],\n",
      "        [  142,    48, 13851,  1885,    45,    56,     2],\n",
      "        [   12,    29,    41,  5195,   248,     0,  3267]])\n",
      "tensor([ 1145,  7268,     1,  4135, 11259,     6,     4,    14,  5483,  1162,\n",
      "           24,   193, 12012,    85,    21, 13844,    18,     4,     1,   504,\n",
      "          195,     2,    27,     0, 15030,     3,    28,    36, 15683,  2648,\n",
      "          170,  2220])\n"
     ]
    }
   ],
   "source": [
    "n_loader = batch_data(int_text, sequence_length=7, batch_size=32)\n",
    "data_iter = iter(n_loader)\n",
    "x,y = data_iter.next()\n",
    "\n",
    "print(x)\n",
    "print(y)"
   ]
  },
  {
   "cell_type": "code",
   "execution_count": 8,
   "metadata": {},
   "outputs": [],
   "source": [
    "from LSTM import LSTM"
   ]
  },
  {
   "cell_type": "code",
   "execution_count": 9,
   "metadata": {},
   "outputs": [],
   "source": [
    "import torch\n",
    "import torch.nn as nn\n",
    "\n",
    "def forward_back_prop(\n",
    "    model, \n",
    "    optimizer, \n",
    "    criterion, \n",
    "    inp, \n",
    "    target, \n",
    "    hidden,\n",
    "    train_on_gpu=False):\n",
    "\n",
    "    if train_on_gpu:\n",
    "        inp, target = inp.cuda(), target.cuda()\n",
    "\n",
    "    hidden = tuple([each.data for each in hidden])\n",
    "\n",
    "    model.zero_grad()\n",
    "    output, hidden = model(inp, hidden)\n",
    "\n",
    "    loss = criterion(output, target)\n",
    "    loss.backward()\n",
    "\n",
    "    clip = 5\n",
    "    nn.utils.clip_grad_norm_(model.parameters(), clip)\n",
    "    optimizer.step()\n",
    "\n",
    "    return loss.item(), hidden\n",
    "    \n",
    "\n",
    "    "
   ]
  },
  {
   "cell_type": "code",
   "execution_count": 10,
   "metadata": {},
   "outputs": [],
   "source": [
    "def train_LSTM(\n",
    "    model,\n",
    "    batch_size,\n",
    "    optimizer,\n",
    "    criterion,\n",
    "    n_epochs,\n",
    "    train_loader,\n",
    "    show_every_n_batches=100):\n",
    "\n",
    "    batch_losses = []\n",
    "\n",
    "    model.train()\n",
    "\n",
    "    print(f' | Training for {n_epochs} epoch(s).....')\n",
    "    for e in range(1, n_epochs + 1):\n",
    "\n",
    "        hidden = model.init_hidden(batch_size)\n",
    "\n",
    "        for batch_idx, (inputs, labels) in enumerate(train_loader, 1):\n",
    "\n",
    "            n_batches = len(train_loader.dataset)//batch_size\n",
    "\n",
    "            if batch_idx > n_batches:\n",
    "                break\n",
    "\n",
    "            loss, hidden = forward_back_prop(\n",
    "                                model=model,\n",
    "                                optimizer=optimizer,\n",
    "                                criterion=criterion,\n",
    "                                inp=inputs,\n",
    "                                target=labels,\n",
    "                                hidden=hidden\n",
    "            )\n",
    "            batch_losses.append(loss)\n",
    "\n",
    "            if batch_idx % show_every_n_batches == 0:\n",
    "                print(f' | EPOCH: {e:>4}/{n_epochs:>4} -- LOSS: {np.average(batch_losses)}')\n",
    "                batch_losses = []\n",
    "\n",
    "    return model\n",
    "\n"
   ]
  },
  {
   "cell_type": "code",
   "execution_count": 11,
   "metadata": {},
   "outputs": [],
   "source": [
    "num_epochs = 25\n",
    "learning_rate = 0.0001\n",
    "vocab_size = len(w2i)\n",
    "output_size = vocab_size\n",
    "embedding_dim = 400\n",
    "hidden_dim = 512\n",
    "n_layers = 3\n",
    "sequence_length = 7\n",
    "batch_size = 32\n",
    "show_every_n_batches = 500"
   ]
  },
  {
   "cell_type": "code",
   "execution_count": 12,
   "metadata": {},
   "outputs": [],
   "source": [
    "\n",
    "model = LSTM(\n",
    "            vocab_size=vocab_size,\n",
    "            output_size=output_size,\n",
    "            embedding_dim=embedding_dim,\n",
    "            hidden_dim=hidden_dim,\n",
    "            n_layers=n_layers\n",
    ")\n",
    "\n",
    "if train_on_gpu:\n",
    "    model.cuda()\n",
    "\n",
    "optimizer = torch.optim.Adam(model.parameters(), lr=learning_rate)\n",
    "criterion = nn.CrossEntropyLoss()\n"
   ]
  },
  {
   "cell_type": "code",
   "execution_count": 13,
   "metadata": {},
   "outputs": [
    {
     "name": "stdout",
     "output_type": "stream",
     "text": [
      " | Training for 25 epoch(s).....\n"
     ]
    }
   ],
   "source": [
    "trained_model = train_LSTM(\n",
    "                    model=model,\n",
    "                    batch_size=batch_size,\n",
    "                    optimizer=optimizer,\n",
    "                    criterion=criterion,\n",
    "                    n_epochs=num_epochs,\n",
    "                    train_loader=n_loader,\n",
    "                    show_every_n_batches=show_every_n_batches\n",
    ")"
   ]
  },
  {
   "cell_type": "code",
   "execution_count": null,
   "metadata": {},
   "outputs": [],
   "source": [
    "data.save_model(filename='/models/baudrillard_v1', decoder=trained_model)"
   ]
  },
  {
   "cell_type": "code",
   "execution_count": null,
   "metadata": {},
   "outputs": [],
   "source": []
  }
 ],
 "metadata": {
  "interpreter": {
   "hash": "f2821f07e8631336d86e8598c0ef80e1a73ee1b0e02af0ddc389e7a58f7ae87f"
  },
  "kernelspec": {
   "display_name": "Python 3.9.7 64-bit ('env': venv)",
   "language": "python",
   "name": "python3"
  },
  "language_info": {
   "codemirror_mode": {
    "name": "ipython",
    "version": 3
   },
   "file_extension": ".py",
   "mimetype": "text/x-python",
   "name": "python",
   "nbconvert_exporter": "python",
   "pygments_lexer": "ipython3",
   "version": "3.9.7"
  },
  "orig_nbformat": 4
 },
 "nbformat": 4,
 "nbformat_minor": 2
}
