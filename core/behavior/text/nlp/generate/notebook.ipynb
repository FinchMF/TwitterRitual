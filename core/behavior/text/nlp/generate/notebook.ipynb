{
 "cells": [
  {
   "cell_type": "markdown",
   "metadata": {},
   "source": [
    "### Quick Look"
   ]
  },
  {
   "cell_type": "code",
   "execution_count": 11,
   "metadata": {},
   "outputs": [],
   "source": [
    "import os\n",
    "baudrillard = '/Users/finchmf/coding/TwitterRitual/core/behavior/text/webscraper/baudrillard/textData/simulacra-and-simulation.txt'\n",
    "baudrillard_2 = '/Users/finchmf/coding/TwitterRitual/core/behavior/text/webscraper/baudrillard/textData/simulations.txt'\n",
    "def load_data(path: str) -> str:\n",
    "\n",
    "    text_file = os.path.join(path)\n",
    "    with open(text_file, \"r\") as f:\n",
    "        data = f.read()\n",
    "\n",
    "    return data\n",
    "\n",
    "_data = load_data(baudrillard)\n",
    "_data_2 = load_data(baudrillard_2)\n",
    "main_data = _data + _data_2"
   ]
  },
  {
   "cell_type": "code",
   "execution_count": 12,
   "metadata": {},
   "outputs": [
    {
     "name": "stdout",
     "output_type": "stream",
     "text": [
      "Dataset Stats\n",
      "Roughly the number of unique words: 14440\n",
      "Number of lines: 11204\n",
      "Average number of words in each line: 7.909139593002499\n",
      "\n",
      "The lines 100 to 150:\n",
      "whose operation is nuclear and genetic, no longer at all specular or discursive. It is all of \n",
      "metaphysics that is lost. No more mirror of being and appearances, of the real and its \n",
      "concept. No more imaginary coextensivity: it is genetic miniaturization that is the \n",
      "dimension of simulation. The real is produced from miniaturized cells, matrices, and \n",
      "memory banks, models of control - and it can be reproduced an indefinite number of \n",
      "times from these. It no longer needs to be rational, because it no longer measures itself \n",
      "against either an ideal or negative instance. It is no longer anything but operational. In \n",
      "fact, it is no longer really the real, because no imaginary envelops it anymore. It is a \n",
      "hyperreal, produced from a radiating synthesis of combinatory models in a hyperspace \n",
      "without atmosphere. \n",
      "\n",
      "By crossing into a space whose curvature is no longer that of the real, nor that of truth, \n",
      "the era of simulation is inaugurated by a liquidation of all referentials - worse: with their \n",
      "\n",
      "\n",
      "artificial resurrection in the systems of signs, a material more malleable than meaning, in \n",
      "that it lends itself to all systems of equivalences, to all binary oppositions, to all \n",
      "combinatory algebra. It is no longer a question of imitation, nor duplication, nor even \n",
      "parody. It is a question of substituting the signs of the real for the real, that is to say of an \n",
      "operation of deterring every real process via its operational double, a programmatic, \n",
      "metastable, perfectly descriptive machine that offers all the signs of the real and short- \n",
      "circuits all its vicissitudes. Never again will the real have the chance to produce itself - \n",
      "such is the vital function of the model in a system of death, or rather of anticipated \n",
      "resurrection, that no longer even gives the event of death a chance. A hyperreal \n",
      "henceforth sheltered from the imaginary, and from any distinction between the real and \n",
      "the imaginary, leaving room only for the orbital recurrence of models and for the \n",
      "simulated generation of differences. \n",
      "\n",
      "THE DIVINE IRREFERENCE OF IMAGES \n",
      "\n",
      "To dissimulate is to pretend not to have what one has. To simulate is to feign to have \n",
      "what one doesn't have. One implies a presence, the other an absence. But it is more \n",
      "complicated than that because simulating is not pretending: \"Whoever fakes an illness \n",
      "can simply stay in bed and make everyone believe he is ill. Whoever simulates an illness \n",
      "produces in himself some of the symptoms\" (Littre). Therefore, pretending, or \n",
      "dissimulating, leaves the principle of reality intact: the difference is always clear, it is \n",
      "simply masked, whereas simulation threatens the difference between the \"true\" and the \n",
      "\"false,\" the \"real\" and the \"imaginary.\" Is the simulator sick or not, given that he \n",
      "produces \"true\" symptoms? Objectively one cannot treat him as being either ill or not ill. \n",
      "Psychology and medicine stop at this point, forestalled by the illness's henceforth \n",
      "undiscoverable truth. For if any symptom can be \"produced,\" and can no longer be taken \n",
      "as a fact of nature, then every illness can be considered as simulatable and simulated, and \n",
      "medicine loses its meaning since it only knows how to treat \"real\" illnesses according to \n",
      "their objective causes. Psychosomatics evolves in a dubious manner at the borders of the \n",
      "principle of illness. As to psychoanalysis, it transfers the symptom of the organic order to \n",
      "the unconscious order: the latter is new and taken for \"real\" more real than the other - but \n",
      "why would simulation be at the gates of the unconscious? Why couldn't the \"work\" of the \n",
      "unconscious be \"produced\" in the same way as any old symptom of classical medicine? \n",
      "Dreams already are. \n",
      "\n"
     ]
    }
   ],
   "source": [
    "import numpy as np\n",
    "\n",
    "view_line_range = (100, 150)\n",
    "\n",
    "print('Dataset Stats')\n",
    "print('Roughly the number of unique words: {}'.format(len({word: None for word in main_data.split()})))\n",
    "\n",
    "lines = main_data.split('\\n')\n",
    "print('Number of lines: {}'.format(len(lines)))\n",
    "word_count_line = [len(line.split()) for line in lines]\n",
    "print('Average number of words in each line: {}'.format(np.average(word_count_line)))\n",
    "\n",
    "print()\n",
    "print('The lines {} to {}:'.format(*view_line_range))\n",
    "print('\\n'.join(main_data.split('\\n')[view_line_range[0]:view_line_range[1]]))"
   ]
  },
  {
   "cell_type": "markdown",
   "metadata": {},
   "source": [
    "### More Developed Dive"
   ]
  },
  {
   "cell_type": "code",
   "execution_count": 19,
   "metadata": {},
   "outputs": [],
   "source": [
    "from utils import data\n",
    "\n",
    "baudrillard = '/Users/finchmf/coding/TwitterRitual/core/behavior/text/webscraper/baudrillard/textData/simulacra-and-simulation.txt'\n",
    "baudrillard_2 = '/Users/finchmf/coding/TwitterRitual/core/behavior/text/webscraper/baudrillard/textData/simulations.txt'\n",
    "\n",
    "text = data.convertManyToOne([baudrillard, baudrillard_2])\n",
    "\n",
    "tmp_path = '/Users/finchmf/coding/TwitterRitual/core/behavior/text/webscraper/baudrillard/textData/tmp'\n",
    "tmp_file = 'tmp_combined.txt'\n",
    "\n",
    "if not os.path.exists(tmp_path):\n",
    "    os.mkdir(tmp_path)\n",
    "\n",
    "with open(f'{tmp_path}/{tmp_file}', 'w') as f:\n",
    "\n",
    "    f.write(text)\n",
    "    f.close()\n",
    "\n",
    "data.preprocess_and_save(\n",
    "    text_path=f'{tmp_path}/{tmp_file}',\n",
    "    text_title='baudrillard_combined'\n",
    ")\n",
    "int_text, w2i, i2w, token_dict = data.load_preprocess('baudrillard_combined')"
   ]
  },
  {
   "cell_type": "code",
   "execution_count": 20,
   "metadata": {},
   "outputs": [
    {
     "name": "stdout",
     "output_type": "stream",
     "text": [
      "CPU\n"
     ]
    }
   ],
   "source": [
    "import torch\n",
    "\n",
    "train_on_gpu = torch.cuda.is_available()\n",
    "if not train_on_gpu:\n",
    "    print('CPU')"
   ]
  },
  {
   "cell_type": "code",
   "execution_count": 21,
   "metadata": {},
   "outputs": [],
   "source": [
    "import numpy as np\n",
    "from torch.utils.data import TensorDataset, DataLoader\n",
    "\n",
    "def batch_data(words: list, sequence_length: int, batch_size: int) -> DataLoader:\n",
    "\n",
    "    words = np.array(words)\n",
    "    total_batch_size = batch_size * sequence_length\n",
    "    n_batches = len(words) // batch_size\n",
    "\n",
    "    words = words[:n_batches * total_batch_size]\n",
    "\n",
    "    feature, target = [], []\n",
    "\n",
    "    target_words_length = words[:-sequence_length]\n",
    "    for idx in range(0, len(target_words_length)):\n",
    "\n",
    "        feature.append(words[idx: idx + sequence_length])\n",
    "        target.append(words[idx + sequence_length])\n",
    "\n",
    "    batch_nums = len(words) // batch_size\n",
    "    feature = feature[:batch_nums * batch_size]\n",
    "    target = target[:batch_nums * batch_size]\n",
    "\n",
    "    feature_tensors = torch.from_numpy(np.asarray(feature))\n",
    "    target_tensors = torch.from_numpy(np.asarray(target))\n",
    "\n",
    "    data_set = TensorDataset(feature_tensors, target_tensors)\n",
    "\n",
    "    data_loader = DataLoader(data_set, batch_size=batch_size, shuffle=True)\n",
    "\n",
    "    return data_loader"
   ]
  },
  {
   "cell_type": "code",
   "execution_count": 22,
   "metadata": {},
   "outputs": [
    {
     "name": "stdout",
     "output_type": "stream",
     "text": [
      "torch.Size([10, 5])\n",
      "tensor([[20, 21, 22, 23, 24],\n",
      "        [39, 40, 41, 42, 43],\n",
      "        [ 2,  3,  4,  5,  6],\n",
      "        [26, 27, 28, 29, 30],\n",
      "        [ 6,  7,  8,  9, 10],\n",
      "        [28, 29, 30, 31, 32],\n",
      "        [17, 18, 19, 20, 21],\n",
      "        [40, 41, 42, 43, 44],\n",
      "        [11, 12, 13, 14, 15],\n",
      "        [33, 34, 35, 36, 37]])\n",
      "\n",
      "torch.Size([10])\n",
      "tensor([25, 44,  7, 31, 11, 33, 22, 45, 16, 38])\n"
     ]
    }
   ],
   "source": [
    "# test dataloader\n",
    "\n",
    "test_text = range(50)\n",
    "t_loader = batch_data(test_text, sequence_length=5, batch_size=10)\n",
    "\n",
    "data_iter = iter(t_loader)\n",
    "sample_x, sample_y = data_iter.next()\n",
    "\n",
    "print(sample_x.shape)\n",
    "print(sample_x)\n",
    "print()\n",
    "print(sample_y.shape)\n",
    "print(sample_y)"
   ]
  },
  {
   "cell_type": "code",
   "execution_count": 23,
   "metadata": {},
   "outputs": [],
   "source": [
    "n_loader = batch_data(int_text, sequence_length=7, batch_size=32)"
   ]
  },
  {
   "cell_type": "code",
   "execution_count": 27,
   "metadata": {},
   "outputs": [
    {
     "name": "stdout",
     "output_type": "stream",
     "text": [
      "tensor([[   75, 10252,     1,     0,   154,    18,    11],\n",
      "        [   17,   205,     1,     3,    40,   448,   706],\n",
      "        [    0,   194,   825,    25,     8,     0,  1246],\n",
      "        [    4,  4326,     8,     2,     6,     9,   264],\n",
      "        [ 1005,   582,    14,  1991,     0,   110,     1],\n",
      "        [ 1259, 11146, 11147,   199,   119,     3,    39],\n",
      "        [  841,     1,     9,  1156,  2425,  1104,     0],\n",
      "        [   36,    48,  2153,    92, 13302,     5,     0],\n",
      "        [  225,    10,    32,  2107,   129,  4181,    22],\n",
      "        [ 5698,     1,     0,  1489,     7,     2,    28],\n",
      "        [    0,  3289,  3290,    26,     0,   691,   219],\n",
      "        [    2,     0,  5353, 10005,     1,     0,   154],\n",
      "        [  300,   669,    95,     4,     1,     0,   902],\n",
      "        [  258,     5,     0,  8016,     4,     6,     3],\n",
      "        [   19,     0,  6853,     2,    57,    58,     0],\n",
      "        [    0,  1105,     6,    14,   278,    85,   136],\n",
      "        [  143,  4720,     8,  1222,  2286,   336,   241],\n",
      "        [   61,     4,   355,  1699,     7,     8,    59],\n",
      "        [  116,   315,     0,  5762,  1462,    60,     0],\n",
      "        [ 3230,    25,     0,   113,     1, 14993,    12],\n",
      "        [ 2544,  2962,     1,     0, 15768,     1,     0],\n",
      "        [    0,   159,  6356,    11,     7,    22,     3],\n",
      "        [11377,    39,  5612,     6,   655,    62,   859],\n",
      "        [   21,    28,  9577,  3974,     4,   406,    57],\n",
      "        [    0,   159,   599,     0,   209,     2,     3],\n",
      "        [    0,   681,  5363,     1,  5666, 11650,     2],\n",
      "        [    5,  5830,     3,    89,   168,     6, 12807],\n",
      "        [  195,  9954,    88,  9955,     4,  5338,     6],\n",
      "        [  353,  1998,   865,    78,     6,    64,    17],\n",
      "        [    0,   198,     1,  1064,     2,  8592,     0],\n",
      "        [    2,   799,    10,   800,     1,    20,  3820],\n",
      "        [    9,  2287,  5128,     3,  9121,  9122,    16]])\n",
      "tensor([  115,    19,    96, 13346,     3, 11148,   162,   257,     3,     3,\n",
      "            1,    18,     1,   134,  6854,  4016,    83,  2552, 12186,    39,\n",
      "         3187,   225,     4,     1,   234,   858,    63,     3,  1470,  4969,\n",
      "            1,    36])\n"
     ]
    }
   ],
   "source": [
    "data_iter = iter(n_loader)\n",
    "x,y = data_iter.next()\n",
    "\n",
    "print(x)\n",
    "print(y)"
   ]
  },
  {
   "cell_type": "code",
   "execution_count": null,
   "metadata": {},
   "outputs": [],
   "source": []
  }
 ],
 "metadata": {
  "interpreter": {
   "hash": "f2821f07e8631336d86e8598c0ef80e1a73ee1b0e02af0ddc389e7a58f7ae87f"
  },
  "kernelspec": {
   "display_name": "Python 3.9.7 64-bit ('env': venv)",
   "language": "python",
   "name": "python3"
  },
  "language_info": {
   "codemirror_mode": {
    "name": "ipython",
    "version": 3
   },
   "file_extension": ".py",
   "mimetype": "text/x-python",
   "name": "python",
   "nbconvert_exporter": "python",
   "pygments_lexer": "ipython3",
   "version": "3.9.7"
  },
  "orig_nbformat": 4
 },
 "nbformat": 4,
 "nbformat_minor": 2
}
